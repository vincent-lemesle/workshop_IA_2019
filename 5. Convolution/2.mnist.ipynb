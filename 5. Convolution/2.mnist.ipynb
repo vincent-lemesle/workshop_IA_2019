{
 "cells": [
  {
   "cell_type": "markdown",
   "metadata": {},
   "source": [
    "# MNIST et convolutions\n",
    "\n",
    "Dans le notebook précédent, vous avez pu voir comment améliorer l'accuracy du Fashion MNIST en utilisant les convolutions. Dans ce notebook, vous devrez atteindre un accuracy d'au moins 99.8% (oui oui, 99.8 !) en utilisant uniquement une seule couche de convolution et un seul MaxPooling 2D. Vous devrez stopper l'entraînement uniquement lorsque cet accuracy est atteint. Vous êtes limités à 20 epochs maximum, mais votre entraînement devra se terminer dès que la métrique de l'accuracy est atteinte. Si ce n'est pas le cas, vous devrez revoir votre modèle.\n",
    "\n",
    "Nous avons commencé à écrire le code pour vous, complétez-le.\n",
    "\n",
    "Lorsque l'accuracy de 99.8% est atteint, vous devrez print `99.8% atteint, exercice réussi !`"
   ]
  },
  {
   "cell_type": "code",
   "execution_count": null,
   "metadata": {},
   "outputs": [],
   "source": [
    "import tensorflow as tf\n",
    "print(tf.__version__)\n",
    "\n",
    "def mnist_conv():\n",
    "\n",
    "    ### Début du code ### (environ 5 lignes de code)\n",
    "\n",
    "    ### Fin du code ###\n",
    "\n",
    "    mnist = tf.keras.datasets.mnist\n",
    "    (training_images, training_labels), (test_images, test_labels) = mnist.load_data()\n",
    "    \n",
    "    ### Début du code ### (environ 3-5 lignes de code)\n",
    "\n",
    "    ### Fin du code ###\n",
    "\n",
    "    model = tf.keras.models.Sequential([\n",
    "            ### Début du code ### (autant de lignes de code que de couches de neurones)\n",
    "\n",
    "            ### Fin du code ###\n",
    "    ])\n",
    "\n",
    "    model.compile(optimizer='adam', loss='sparse_categorical_crossentropy', metrics=['acc'])\n",
    "    history = model.fit(\n",
    "        ### Début du code ### \n",
    "\n",
    "        ### Fin du code ###\n",
    "    )\n",
    "    return history.epoch, history.history['acc'][-1]\n",
    "\n",
    "_, _ = mnist_conv()"
   ]
  }
 ],
 "metadata": {
  "kernelspec": {
   "display_name": "Python 3",
   "language": "python",
   "name": "python3"
  },
  "language_info": {
   "codemirror_mode": {
    "name": "ipython",
    "version": 3
   },
   "file_extension": ".py",
   "mimetype": "text/x-python",
   "name": "python",
   "nbconvert_exporter": "python",
   "pygments_lexer": "ipython3",
   "version": "3.7.3"
  }
 },
 "nbformat": 4,
 "nbformat_minor": 2
}
