{
 "cells": [
  {
   "cell_type": "markdown",
   "metadata": {
    "colab_type": "text",
    "id": "tOoyQ70H00_s"
   },
   "source": [
    "## MNIST Handwritten Digits\n",
    "\n",
    "Dans le notebook précédent, vous avez pu voir comment classifier des vêtements à travers le Fashion MNIST. Il existe en fait un autre dataset similaire nommé MNIST qui correspond à des images comprenant les chiffres de 0 à 9 manuscrits: https://en.wikipedia.org/wiki/MNIST_database.\n",
    "\n",
    "Le but de cet exercice est de construire un réseau de neurones capable de classifier correctement ces images à une accuracy supérieure à 99%, sans un nombre fixe d'epochs, c'est-à-dire que vous devrez stopper l'entraînement dès que vous aurez atteint cet accurary.\n",
    "\n",
    "**Consignes**:\n",
    "- Vous devez réaliser la classification en - de 10 epochs, cela veut dire qu'il est possible de le définir à 10, mais pas plus.\n",
    "- Dès lors que l'accuracy de 99% est atteint, vous devez stopper le training et afficher: \"99% atteint, exercice réussi !\"\n",
    "- N'écrivez votre code que dans les champs désignés.\n",
    "\n",
    "**Notes**:\n",
    "- Attention, on vous demande d'atteindre l'accuracy (et non la loss)\n",
    "- Si vous ajoutez d'autres variables, faîtes attention à ce qu'ils portent le même nom que celui utilisé dans la classe."
   ]
  },
  {
   "cell_type": "code",
   "execution_count": null,
   "metadata": {
    "colab": {},
    "colab_type": "code",
    "id": "9rvXQGAA0ssC"
   },
   "outputs": [],
   "source": [
    "import tensorflow as tf\n",
    "print(tf.__version__)\n",
    "\n",
    "def train_mnist():\n",
    "\n",
    "    ### Début du code ### (~ 4 lignes de code)\n",
    "\n",
    "    ### Fin du code ###\n",
    "\n",
    "    mnist = tf.keras.datasets.mnist\n",
    "    (x_train, y_train),(x_test, y_test) = mnist.load_data()\n",
    "    \n",
    "    ### Début du code ### (~ 2-5 lignes de code)\n",
    "\n",
    "    ### Fin du code ###\n",
    "    \n",
    "    model = tf.keras.models.Sequential([\n",
    "        ### Début du code ### \n",
    "\n",
    "        ### Fin du code ###\n",
    "    ])\n",
    "\n",
    "    model.compile(optimizer='adam',\n",
    "                  loss='sparse_categorical_crossentropy',\n",
    "                  metrics=['acc'])\n",
    "    \n",
    "    # model fitting\n",
    "    history = model.fit(### Début du code ###\n",
    "                \n",
    "                ### Fin du code ###\n",
    "                )\n",
    "    return history.epoch, history.history['acc'][-1]\n",
    "\n",
    "train_mnist()"
   ]
  }
 ],
 "metadata": {
  "colab": {
   "collapsed_sections": [],
   "name": "Exercise2-Question.ipynb",
   "provenance": [],
   "version": "0.3.2"
  },
  "kernelspec": {
   "display_name": "Python 3",
   "language": "python",
   "name": "python3"
  },
  "language_info": {
   "codemirror_mode": {
    "name": "ipython",
    "version": 3
   },
   "file_extension": ".py",
   "mimetype": "text/x-python",
   "name": "python",
   "nbconvert_exporter": "python",
   "pygments_lexer": "ipython3",
   "version": "3.7.3"
  }
 },
 "nbformat": 4,
 "nbformat_minor": 1
}
