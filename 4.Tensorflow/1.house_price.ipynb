{
 "cells": [
  {
   "cell_type": "markdown",
   "metadata": {
    "colab_type": "text",
    "id": "mw2VBrBcgvGa"
   },
   "source": [
    "# Introduction à Tensorflow\n",
    "\n",
    "Dans les workshops précédents, vous avez implémenté from scratch toutes les fonctions nécessaires à la création d'un modèle. Il existe en fait des bibliothèques qui l'ont déjà fait pour vous de façon optimisée. Le but de ce workshop sera d'en découvrir une parmi elles: Tensorflow.\n",
    "\n",
    "\n",
    "**Vous réaliserez l'exercice suivant:**\n",
    "\n",
    "Vous êtes un agent immobilier et vous souhaitez comprendre le prix d'une maison dans un quartier donné. En fait, le calcul de ces prix est très simple (on imagine ...), il dépend de 2 facteurs: montant de base + nombre de chambres.\n",
    "\n",
    "Imaginez que le montant de base soit égal à 50 000 euros et que chaque chambre entraîne un supplément de 50 000 euros.On aurait alors le prix d'une maison avec une chambre égal à 100k, avec 2 chambres 150k etc.\n",
    "\n",
    "Comment créeriez-vous un réseau de neurones capable d'apprendre cette relation, de façon à ce qu'il puisse prédire qu'une maison à 9 chambres ait une valeur estimée à 500k ?\n",
    "\n",
    "**Consignes:**\n",
    "    - Vous utilisez l'API Keras\n",
    "    - Utilisez directement les fonctions de Tensorflow\n",
    "    - Cherchez et lisez la doc !\n",
    "    - Remplissez uniquement les champs déterminés par # Votre code ici #\n",
    "\n",
    "**Conseil:**   Votre réseau de neurones sera plus performant si vous mettez le prix des maisons à des valeurs plus faibles. Vous n'êtes pas obligés d'obtenir la réponse 400, mais 4 par exemple et votre réponse serait alors en centaines de milliers, etc."
   ]
  },
  {
   "cell_type": "code",
   "execution_count": null,
   "metadata": {
    "colab": {},
    "colab_type": "code",
    "id": "PUNO2E6SeURH"
   },
   "outputs": [],
   "source": [
    "import tensorflow as tf\n",
    "import numpy as np\n",
    "from tensorflow import keras\n",
    "\n",
    "model = # Votre code ici #\n",
    "model.compile(# Votre code ici #)\n",
    "x = # Votre code ici #\n",
    "y = # Votre code ici #\n",
    "model.fit(# Votre code ici #)\n",
    "print(model.predict([9.0]))"
   ]
  },
  {
   "cell_type": "markdown",
   "metadata": {},
   "source": [
    "**Résultat attendu:**\n",
    "```\n",
    "[...]\n",
    "Epoch 1000/1000\n",
    "6/6 [==============================] - 0s XXXus/sample - loss: X.XXXXX\n",
    "[[5.XXXXX]] si vous avez suivi le conseil ou un autre nombre contenant 5 (0.5, 50, 500, etc.)\n",
    "```"
   ]
  }
 ],
 "metadata": {
  "colab": {
   "name": "Exercise 1 - House Prices - Question.ipynb",
   "provenance": [],
   "version": "0.3.2"
  },
  "kernelspec": {
   "display_name": "Python 3",
   "language": "python",
   "name": "python3"
  },
  "language_info": {
   "codemirror_mode": {
    "name": "ipython",
    "version": 3
   },
   "file_extension": ".py",
   "mimetype": "text/x-python",
   "name": "python",
   "nbconvert_exporter": "python",
   "pygments_lexer": "ipython3",
   "version": "3.7.3"
  }
 },
 "nbformat": 4,
 "nbformat_minor": 1
}
