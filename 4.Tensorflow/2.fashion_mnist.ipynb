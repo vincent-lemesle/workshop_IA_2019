{
 "cells": [
  {
   "cell_type": "markdown",
   "metadata": {
    "colab_type": "text",
    "id": "qnyTxjK_GbOD"
   },
   "source": [
    "# Un exemple de Computer Vision\n",
    "\n",
    "Dans le notebook précédent, vous avez créé un réseau de neurones capable de prédire le prix d'une maison. Bien sûr, cela a été exagéré car il aurait été plus simple d'ecrire la fonction Y = 50x + 50 directement, au lieu de créer un modèle de Machine Learning. \n",
    "\n",
    "Mais que se passt-t-il si les règles qui définissent un dataset sont plus compliquées, comme un problème de computer vision par exemple ? Imaginez vous le scénario où vous pouvez reconnaître différents types de vêtements, entraînés depuis un dataset contenant 10 types différents.\n",
    "\n",
    "Pour cela, nous utiliserons le dataset Fashion MNIST. https://www.kaggle.com/zalando-research/fashionmnist\n"
   ]
  },
  {
   "cell_type": "markdown",
   "metadata": {
    "colab_type": "text",
    "id": "H41FYgtlHPjW"
   },
   "source": [
    "## C'est parti pour le code !\n",
    "\n",
    "Commencez par importer Tensorflow. Il vous faudra la version 2.0"
   ]
  },
  {
   "cell_type": "code",
   "execution_count": null,
   "metadata": {
    "colab": {
     "base_uri": "https://localhost:8080/",
     "height": 34
    },
    "colab_type": "code",
    "executionInfo": {
     "elapsed": 1577,
     "status": "ok",
     "timestamp": 1550587660097,
     "user": {
      "displayName": "Laurence Moroney",
      "photoUrl": "https://lh3.googleusercontent.com/-RcxktLY-TBk/AAAAAAAAAAI/AAAAAAAAABY/b4V4dTIqmPI/s64/photo.jpg",
      "userId": "06401446828348966425"
     },
     "user_tz": 480
    },
    "id": "q3KzJyjv3rnA",
    "outputId": "7a1ceed7-66f6-4a43-b3f4-26d54bd95817"
   },
   "outputs": [],
   "source": [
    "import tensorflow as tf\n",
    "print(tf.__version__)"
   ]
  },
  {
   "cell_type": "markdown",
   "metadata": {
    "colab_type": "text",
    "id": "n_n1U5do3u_F"
   },
   "source": [
    "Le jeu de donnés Fashion MNIST est disponible directement depuis l'API de Keras tf.keras. Vous pouvez le charger de la façon suivante:"
   ]
  },
  {
   "cell_type": "code",
   "execution_count": null,
   "metadata": {
    "colab": {},
    "colab_type": "code",
    "id": "PmxkHFpt31bM"
   },
   "outputs": [],
   "source": [
    "mnist = tf.keras.datasets.fashion_mnist"
   ]
  },
  {
   "cell_type": "markdown",
   "metadata": {
    "colab_type": "text",
    "id": "GuoLQQBT4E-_"
   },
   "source": [
    "Faire appel à la méthode load_data sur cet objet vous donnera 2 sets de 2 lists. Il s'agit des valeurs de train et de test correspondant aux images de vêtements et leurs labels.\n"
   ]
  },
  {
   "cell_type": "code",
   "execution_count": null,
   "metadata": {
    "colab": {
     "base_uri": "https://localhost:8080/",
     "height": 204
    },
    "colab_type": "code",
    "executionInfo": {
     "elapsed": 1381,
     "status": "ok",
     "timestamp": 1550587667916,
     "user": {
      "displayName": "Laurence Moroney",
      "photoUrl": "https://lh3.googleusercontent.com/-RcxktLY-TBk/AAAAAAAAAAI/AAAAAAAAABY/b4V4dTIqmPI/s64/photo.jpg",
      "userId": "06401446828348966425"
     },
     "user_tz": 480
    },
    "id": "BTdRgExe4TRB",
    "outputId": "104aab14-aa09-4ed2-806c-38807fbac030"
   },
   "outputs": [],
   "source": [
    "(train_X, train_Y), (test_X, test_Y) = mnist.load_data()"
   ]
  },
  {
   "cell_type": "markdown",
   "metadata": {
    "colab_type": "text",
    "id": "rw395ROx4f5Q"
   },
   "source": [
    "A quoi ressemblent ces valeurs ? Affichez une image de train et son label pour voir. \n",
    "Expérimentez en changeant les indices des tableaux. Par exemple, vous pouvez voir l'index 42... il s'agit d'une botte différente de celle de l'index 0."
   ]
  },
  {
   "cell_type": "code",
   "execution_count": null,
   "metadata": {
    "colab": {
     "base_uri": "https://localhost:8080/",
     "height": 1238
    },
    "colab_type": "code",
    "executionInfo": {
     "elapsed": 357,
     "status": "ok",
     "timestamp": 1550587722332,
     "user": {
      "displayName": "Laurence Moroney",
      "photoUrl": "https://lh3.googleusercontent.com/-RcxktLY-TBk/AAAAAAAAAAI/AAAAAAAAABY/b4V4dTIqmPI/s64/photo.jpg",
      "userId": "06401446828348966425"
     },
     "user_tz": 480
    },
    "id": "FPc9d3gJ3jWF",
    "outputId": "5efae963-162d-4418-c001-2e8d6af83f40"
   },
   "outputs": [],
   "source": [
    "import matplotlib.pyplot as plt\n",
    "plt.imshow(train_X[0])\n",
    "print(train_Y[0])\n",
    "print(train_X[0])"
   ]
  },
  {
   "cell_type": "markdown",
   "metadata": {
    "colab_type": "text",
    "id": "3cbrdH225_nH"
   },
   "source": [
    "Vous allez remarquer que toutes les valeurs de l'array sont des nombres compris entre 0 et 255. Il va falloir les normaliser de la façon suivante:"
   ]
  },
  {
   "cell_type": "code",
   "execution_count": null,
   "metadata": {
    "colab": {},
    "colab_type": "code",
    "id": "kRH19pWs6ZDn"
   },
   "outputs": [],
   "source": [
    "train_X  = train_X / 255.0\n",
    "test_X = test_X / 255.0"
   ]
  },
  {
   "cell_type": "markdown",
   "metadata": {
    "colab_type": "text",
    "id": "3DkO0As46lRn"
   },
   "source": [
    "Certains se demandent peut-être pourquoi il y a 2 jeux de données différents. Si vous ne connaissez pas la réponse, nous vous invitons à faire/refaire les workshops précédents."
   ]
  },
  {
   "cell_type": "markdown",
   "metadata": {
    "colab_type": "text",
    "id": "dIn7S9gf62ie"
   },
   "source": [
    "Vous pouvez maintenant créer votre modèle. Il y a quelques nouveaux concepts ici, mais ne vous inquiétez pas, nous allons vous les expliquer un par un."
   ]
  },
  {
   "cell_type": "code",
   "execution_count": null,
   "metadata": {
    "colab": {},
    "colab_type": "code",
    "id": "7mAyndG3kVlK"
   },
   "outputs": [],
   "source": [
    "model = tf.keras.models.Sequential([tf.keras.layers.Flatten(), \n",
    "                                    tf.keras.layers.Dense(128, activation=tf.nn.relu), \n",
    "                                    tf.keras.layers.Dense(10, activation=tf.nn.softmax)])"
   ]
  },
  {
   "cell_type": "markdown",
   "metadata": {
    "colab_type": "text",
    "id": "-lUcWaiX7MFj"
   },
   "source": [
    "**Sequential**: Ceci définit une SEQUENCE de layers(=couches) dans le réseau de neurones.\n",
    "\n",
    "**Flatten**: Vous vous rappelez que vos images correspondaient à une matrice carrée, quand vous les avez affichées ? Flatten va juste récupérer cette matrice et la convertir en 1D. \n",
    "\n",
    "**Dense**: Ajoute une couche de neurones\n",
    "\n",
    "Chaque couche de neurone a besoin d'une **fonction d'activation**. Idem si vous ne connaissez pas son fonctionnement et son utilité, revenez sur les workshops précedents. \n",
    "\n",
    "**Relu** est une fonction qui signifie \"Si X>0 alors return X, sinon return 0\" -- donc ce qu'elle fait elle va uniquement passer les valeurs supérieures ou égales à 0 dans la prochaine couche du réseau.\n",
    "\n",
    "**Softmax** récupère un set de valeurs, et sélectionne le plus grand nombre. Par exemple, si l'output du dernier layer ressemble à [0.1, 0.1, 0.05, 0.1, 9.5, 0.1, 0.05, 0.05, 0.05], il va chercher la plus grande valeur et convertir l'output en [0,0,0,0,1,0,0,0,0]."
   ]
  },
  {
   "cell_type": "markdown",
   "metadata": {
    "colab_type": "text",
    "id": "c8vbMCqb9Mh6"
   },
   "source": [
    "La prochaine chose à faire, maintenant que le modèle est défini, est de le construire. Vous pouvez le faire en faisant appel à la méthode compile et en définissant un optimizer et une fonction de loss, puis vous l'entraînez en appelant **model.fit**."
   ]
  },
  {
   "cell_type": "code",
   "execution_count": null,
   "metadata": {
    "colab": {
     "base_uri": "https://localhost:8080/",
     "height": 204
    },
    "colab_type": "code",
    "executionInfo": {
     "elapsed": 29548,
     "status": "ok",
     "timestamp": 1550587849991,
     "user": {
      "displayName": "Laurence Moroney",
      "photoUrl": "https://lh3.googleusercontent.com/-RcxktLY-TBk/AAAAAAAAAAI/AAAAAAAAABY/b4V4dTIqmPI/s64/photo.jpg",
      "userId": "06401446828348966425"
     },
     "user_tz": 480
    },
    "id": "BLMdl9aP8nQ0",
    "outputId": "91a80606-f0a5-41f0-9d03-91d1ecdc8e17"
   },
   "outputs": [],
   "source": [
    "model.compile(optimizer = 'Adam',\n",
    "              loss = 'sparse_categorical_crossentropy',\n",
    "              metrics=['accuracy'])\n",
    "\n",
    "model.fit(train_X, train_Y, epochs=5)"
   ]
  },
  {
   "cell_type": "markdown",
   "metadata": {
    "colab_type": "text",
    "id": "-JJMsvSB-1UY"
   },
   "source": [
    "Une fois que l'entraînement a été réalisé, vous devriez voir l'accuracy à la fin de chaque epoch. Cela devrait ressembler à une valeur comme 0.9091. Cela signifie que votre réseau de neurones peut classifier vos données de train avec une précision d'environ 91%. Ce n'est pas le meilleur résultat qu'on peut avoir, mais c'est plutôt pas mal au vu du nombre d'epochs faible qui a été défini et de la rapidité de l'entraînement.\n",
    "\n",
    "Mais quelle performance le modèle a-t-il atteint sur des données inconnues. C'est pour cela que nous avons les images de test. Vous pouvez faire appel à model.evaluate pour évaluer votre modèle sur votre jeu de données de test."
   ]
  },
  {
   "cell_type": "code",
   "execution_count": null,
   "metadata": {
    "colab": {
     "base_uri": "https://localhost:8080/",
     "height": 51
    },
    "colab_type": "code",
    "executionInfo": {
     "elapsed": 832,
     "status": "ok",
     "timestamp": 1550587895553,
     "user": {
      "displayName": "Laurence Moroney",
      "photoUrl": "https://lh3.googleusercontent.com/-RcxktLY-TBk/AAAAAAAAAAI/AAAAAAAAABY/b4V4dTIqmPI/s64/photo.jpg",
      "userId": "06401446828348966425"
     },
     "user_tz": 480
    },
    "id": "WzlqsEzX9s5P",
    "outputId": "4dd8018a-f3ba-4e5b-e163-3d4f5dd12f19"
   },
   "outputs": [],
   "source": [
    "model.evaluate(test_X, test_Y)"
   ]
  },
  {
   "cell_type": "markdown",
   "metadata": {
    "colab_type": "text",
    "id": "6tki-Aro_Uax"
   },
   "source": [
    "Pour nous, ça a retourné un accurary de 0.8759, ce qui signifie qu'il est précis à environ 88%. Comme prévu, il est moins précis sur des données qu'il n'a jamais vu.\n",
    "\n",
    "Pour comprendre davantage les différents paramètres, essayez les exercices d'exploration suivants:"
   ]
  },
  {
   "cell_type": "markdown",
   "metadata": {
    "colab_type": "text",
    "id": "htldZNWcIPSN"
   },
   "source": [
    "# Exercices d'exploration\n",
    "\n",
    "Ces exercices ne vous demandent pas vraiment de coder. Juste changer parfois quelques valeurs afin que vous comprennez davantages les différents paramètres données aux fonctions."
   ]
  },
  {
   "cell_type": "markdown",
   "metadata": {
    "colab_type": "text",
    "id": "rquQqIx4AaGR"
   },
   "source": [
    "### Exercice 1:\n",
    "\n",
    "Pour ce premier exercice, exécutez la cellule suivante: elle crée un set de classifications pour chaque image du jeu de données de test. Affichez ensuite la première entrée de classifications. L'output correpond à une liste de valeurs. Qu'en pensez-vous ? A votre avis, qu'est-ce que ces valeurs représentent ?"
   ]
  },
  {
   "cell_type": "code",
   "execution_count": null,
   "metadata": {
    "colab": {},
    "colab_type": "code",
    "id": "RyEIki0z_hAD"
   },
   "outputs": [],
   "source": [
    "classifications = model.predict(test_X)\n",
    "\n",
    "print(classifications[0])"
   ]
  },
  {
   "cell_type": "markdown",
   "metadata": {
    "colab_type": "text",
    "id": "MdzqbQhRArzm"
   },
   "source": [
    "Indice: essayer d'exécuter `print(test_Y[0])`, et vous aurez un 9. Est-ce que cela vous aide à comprendre l'utilité de cette liste ?"
   ]
  },
  {
   "cell_type": "code",
   "execution_count": null,
   "metadata": {
    "colab": {},
    "colab_type": "code",
    "id": "WnBGOrMiA1n5"
   },
   "outputs": [],
   "source": [
    "print(test_Y[0])"
   ]
  },
  {
   "cell_type": "markdown",
   "metadata": {
    "colab_type": "text",
    "id": "uUs7eqr7uSvs"
   },
   "source": [
    "### Quiz: Qu'est ce que cette liste représente ?\n",
    "\n",
    "\n",
    "1. Il s'agit de 10 valeurs random\n",
    "2. Il s'agit des 10 premières classifications que l'ordinateur a fait\n",
    "3. Il s'agit de la probabilité que l'item soit dans chacune des 10 classes"
   ]
  },
  {
   "cell_type": "markdown",
   "metadata": {
    "colab_type": "text",
    "id": "wAbr92RTA67u"
   },
   "source": [
    "#### Réponse:\n",
    "La réponse correcte est la 3.\n",
    "\n",
    "L'output du modèle est une liste de 10 nombres. Ces nombres correspondent aux probabilités que la valeur qui est en train d'être classifiée corresponde à la classe. La première valeur de la liste est la probabilité que l'image corresponde à la classe 0, la suivante à un 1, etc.\n",
    "\n",
    "Pour notre cas, la valeur qui nous est affichée est un 9 car il possède la probabilité la plus forte."
   ]
  },
  {
   "cell_type": "markdown",
   "metadata": {
    "colab_type": "text",
    "id": "CD4kC6TBu-69"
   },
   "source": [
    "### Comment savez-vous comment cette liste vous dit que l'item que vous prédisez est une botte ?\n",
    "\n",
    "\n",
    "1.   Il n'y a pas assez d'information pour répondre à cette question\n",
    "2.   Le 10ème élément de la liste est le plus grand, et la botte est représentée par le label 9\n",
    "3.   La botte est labellée par 9, et il y a 0->9 élements dans la liste."
   ]
  },
  {
   "cell_type": "markdown",
   "metadata": {
    "colab_type": "text",
    "id": "I-haLncrva5L"
   },
   "source": [
    "### Réponse\n",
    "\n",
    "La réponse correcte est la 2. Chaque liste commence par l'index 0, et le label 9 correspondant à la botte signifie qu'il s'agit de la 10ème classe. La liste contenant la plus grande valeur à son dixième élément signifie que le réseau de neurones a prédit que l'item donné en entrée etait classifiée en tant que botte. "
   ]
  },
  {
   "cell_type": "markdown",
   "metadata": {
    "colab_type": "text",
    "id": "OgQSIfDSOWv6"
   },
   "source": [
    "## Exercice 2: \n",
    "\n",
    "Regardez maintenant les couches du modèles. Expérimentez différentes valeurs pour le dense layer avec 512 neurones.\n",
    "Quels résultats différents obtenez vous pour la loss, le temps d'entraînement etc. ? Pourquoi pensez-vous qu'il y a ces différences ?"
   ]
  },
  {
   "cell_type": "code",
   "execution_count": null,
   "metadata": {
    "colab": {},
    "colab_type": "code",
    "id": "GSZSwV5UObQP"
   },
   "outputs": [],
   "source": [
    "import tensorflow as tf\n",
    "print(tf.__version__)\n",
    "\n",
    "mnist = tf.keras.datasets.fashion_mnist\n",
    "\n",
    "(train_X, train_Y) ,  (test_X, test_Y) = mnist.load_data()\n",
    "\n",
    "train_X = train_X/255.0\n",
    "test_X = test_X/255.0\n",
    "\n",
    "model = tf.keras.models.Sequential([tf.keras.layers.Flatten(),\n",
    "                                    tf.keras.layers.Dense(512, activation=tf.nn.relu),\n",
    "                                    tf.keras.layers.Dense(10, activation=tf.nn.softmax)])\n",
    "\n",
    "model.compile(optimizer = 'adam',\n",
    "              loss = 'sparse_categorical_crossentropy')\n",
    "\n",
    "model.fit(train_X, train_Y, epochs=5)\n",
    "\n",
    "model.evaluate(test_X, test_Y)\n",
    "\n",
    "classifications = model.predict(test_X)\n",
    "\n",
    "print(classifications[0])\n",
    "print(test_Y[0])"
   ]
  },
  {
   "cell_type": "markdown",
   "metadata": {
    "colab_type": "text",
    "id": "bOOEnHZFv5cS"
   },
   "source": [
    "### Question 1. Augmentez le à 1024 neurones, quel est l'impact ? \n",
    "\n",
    "1. L'entraînement prend plus de temps, mais est plus précis\n",
    "2. L'entraînement prend plus de temps, mais n'a pas d'impact sur la précision\n",
    "3. L'entraînement prend le même temps, mais est plus précis"
   ]
  },
  {
   "cell_type": "markdown",
   "metadata": {
    "colab_type": "text",
    "id": "U73MUP2lwrI2"
   },
   "source": [
    "#### Réponse\n",
    "\n",
    "La réponse correcte est la réponse 1. En ajoutant plus de neurones, nous avons davantage de calculs, ce qui augmente le temps d'entraînement. Mais dans ce cas là vous avez une meilleure précision. Par contre, cela ne signifie pas que 'plus, c'est meilleur'. Vous l'aurez l'occasion de comprendre cela plus tard."
   ]
  },
  {
   "cell_type": "markdown",
   "metadata": {
    "colab_type": "text",
    "id": "WtWxK16hQxLN"
   },
   "source": [
    "## Exercice 3: \n",
    "\n",
    "Que se passe-t-il si vous retirez le layer Flatten() ? A votre avis, qu'est ce que l'entraînement vous donnera comme résultat ?\n",
    "\n",
    "Vous aurez une erreur sur le shape des données. En effet, une couche ne peut pas contenir des neurones de 28x28, il faut plutôt la flatten, de façon à ce que ce 28x28 soit converti en 784x1. Au lieu d'écrire tout le code vous même, vous pouvez directement faire appel à Flatten() au tout début."
   ]
  },
  {
   "cell_type": "code",
   "execution_count": null,
   "metadata": {
    "colab": {},
    "colab_type": "code",
    "id": "ExNxCwhcQ18S"
   },
   "outputs": [],
   "source": [
    "import tensorflow as tf\n",
    "print(tf.__version__)\n",
    "\n",
    "mnist = tf.keras.datasets.fashion_mnist\n",
    "\n",
    "(train_X, train_Y) ,  (test_X, test_Y) = mnist.load_data()\n",
    "\n",
    "train_X = train_X/255.0\n",
    "test_X = test_X/255.0\n",
    "\n",
    "model = tf.keras.models.Sequential([tf.keras.layers.Flatten(),\n",
    "                                    tf.keras.layers.Dense(512, activation=tf.nn.relu),\n",
    "                                    tf.keras.layers.Dense(10, activation=tf.nn.softmax)])\n",
    "\n",
    "model.compile(optimizer = 'adam',\n",
    "              loss = 'sparse_categorical_crossentropy')\n",
    "\n",
    "model.fit(train_X, train_Y, epochs=5)\n",
    "\n",
    "model.evaluate(test_X, test_Y)\n",
    "\n",
    "classifications = model.predict(test_X)\n",
    "\n",
    "print(classifications[0])\n",
    "print(test_Y[0])"
   ]
  },
  {
   "cell_type": "markdown",
   "metadata": {
    "colab_type": "text",
    "id": "VqoCR-ieSGDg"
   },
   "source": [
    "## Exercice 4: \n",
    "\n",
    "Analysez la couche finale (couche d'output). Pourquoi doit elle contenir 10 neurones ? Que se passe-t-il si vous mettez un nombre différent de 10 ? Essayez par exemple avec 5\n",
    "\n",
    "Vous obtenez directement une erreur. En effet, vos labels correspondent à 10 classes."
   ]
  },
  {
   "cell_type": "code",
   "execution_count": null,
   "metadata": {
    "colab": {},
    "colab_type": "code",
    "id": "MMckVntcSPvo"
   },
   "outputs": [],
   "source": [
    "import tensorflow as tf\n",
    "print(tf.__version__)\n",
    "\n",
    "mnist = tf.keras.datasets.fashion_mnist\n",
    "\n",
    "(train_X, train_Y) ,  (test_X, test_Y) = mnist.load_data()\n",
    "\n",
    "train_X = train_X/255.0\n",
    "test_X = test_X/255.0\n",
    "\n",
    "model = tf.keras.models.Sequential([tf.keras.layers.Flatten(),\n",
    "                                    tf.keras.layers.Dense(512, activation=tf.nn.relu),\n",
    "                                    tf.keras.layers.Dense(10, activation=tf.nn.softmax)])\n",
    "\n",
    "model.compile(optimizer = 'adam',\n",
    "              loss = 'sparse_categorical_crossentropy')\n",
    "\n",
    "model.fit(train_X, train_Y, epochs=5)\n",
    "\n",
    "model.evaluate(test_X, test_Y)\n",
    "\n",
    "classifications = model.predict(test_X)\n",
    "\n",
    "print(classifications[0])\n",
    "print(test_Y[0])"
   ]
  },
  {
   "cell_type": "markdown",
   "metadata": {
    "colab_type": "text",
    "id": "-0lF5MuvSuZF"
   },
   "source": [
    "## Exercice 5: \n",
    "\n",
    "Essayez maintenant d'ajouter des couches supplémentaires dans le réseau. Que se passe-t-il si vous ajouter une autre couche entre celle contenant 512 neurones et celles en contenant 10 ?\n",
    "\n",
    "Réponse: Il n'y pas d'impact significatif, car il s'agit de données plutôt simples. Pour des données plus complexes, ajouter une couche de neurones peut s'avérer utile (rappelez vous votre jeu de données \"fleur\")"
   ]
  },
  {
   "cell_type": "code",
   "execution_count": null,
   "metadata": {
    "colab": {},
    "colab_type": "code",
    "id": "b1YPa6UhS8Es"
   },
   "outputs": [],
   "source": [
    "import tensorflow as tf\n",
    "print(tf.__version__)\n",
    "\n",
    "mnist = tf.keras.datasets.fashion_mnist\n",
    "\n",
    "(train_X, train_Y) ,  (test_X, test_Y) = mnist.load_data()\n",
    "\n",
    "train_X = train_X/255.0\n",
    "test_X = test_X/255.0\n",
    "\n",
    "model = tf.keras.models.Sequential([tf.keras.layers.Flatten(),\n",
    "                                    tf.keras.layers.Dense(512, activation=tf.nn.relu),\n",
    "                                    tf.keras.layers.Dense(10, activation=tf.nn.softmax)])\n",
    "\n",
    "model.compile(optimizer = 'adam',\n",
    "              loss = 'sparse_categorical_crossentropy')\n",
    "\n",
    "model.fit(train_X, train_Y, epochs=5)\n",
    "\n",
    "model.evaluate(test_X, test_Y)\n",
    "\n",
    "classifications = model.predict(test_X)\n",
    "\n",
    "print(classifications[0])\n",
    "print(test_Y[0])"
   ]
  },
  {
   "cell_type": "markdown",
   "metadata": {
    "colab_type": "text",
    "id": "Bql9fyaNUSFy"
   },
   "source": [
    "# Exercice 6: \n",
    "\n",
    "Essayez d'entraîner vos données avec plus ou moins d'epochs. Que pensez-vous du résultat ?\n",
    "\n",
    "Essayez avec 15 epochs: vous aurez sûrement un modèle avec une meilleure loss que celui avec 5 epoch\n",
    "\n",
    "Essayez avec 30 epochs: vous verrez que la loss cesse de diminuer, et qu'elle augmente parfois. Il s'agit de l'overfitting. Suivez votre entraînement, cela ne sert à rien de continuer à entraîner un modèle s'il a déjà atteint ses meilleures performances, n'est ce pas ? ;) "
   ]
  },
  {
   "cell_type": "code",
   "execution_count": null,
   "metadata": {
    "colab": {},
    "colab_type": "code",
    "id": "uE3esj9BURQe"
   },
   "outputs": [],
   "source": [
    "import tensorflow as tf\n",
    "print(tf.__version__)\n",
    "\n",
    "mnist = tf.keras.datasets.fashion_mnist\n",
    "\n",
    "(train_X, train_Y) ,  (test_X, test_Y) = mnist.load_data()\n",
    "\n",
    "train_X = train_X/255.0\n",
    "test_X = test_X/255.0\n",
    "\n",
    "model = tf.keras.models.Sequential([tf.keras.layers.Flatten(),\n",
    "                                    tf.keras.layers.Dense(512, activation=tf.nn.relu),\n",
    "                                    tf.keras.layers.Dense(10, activation=tf.nn.softmax)])\n",
    "\n",
    "model.compile(optimizer = 'adam',\n",
    "              loss = 'sparse_categorical_crossentropy')\n",
    "\n",
    "model.fit(train_X, train_Y, epochs=5)\n",
    "\n",
    "model.evaluate(test_X, test_Y)\n",
    "\n",
    "classifications = model.predict(test_X)\n",
    "\n",
    "print(classifications[34])\n",
    "print(test_Y[34])"
   ]
  },
  {
   "cell_type": "markdown",
   "metadata": {
    "colab_type": "text",
    "id": "HS3vVkOgCDGZ"
   },
   "source": [
    "### Exercice 7: \n",
    "\n",
    "Avant votre entraînement, vous aviez normalisé vos données de façon à ce que vos valeurs 0-255 passent à 0-1.Que se passerait-il si vous retirez cette étape ? Essayez le code suivant. A votre avis, pourquoi vous obtenez des résultats différents ?"
   ]
  },
  {
   "cell_type": "code",
   "execution_count": null,
   "metadata": {
    "colab": {},
    "colab_type": "code",
    "id": "JDqNAqrpCNg0"
   },
   "outputs": [],
   "source": [
    "import tensorflow as tf\n",
    "print(tf.__version__)\n",
    "\n",
    "mnist = tf.keras.datasets.fashion_mnist\n",
    "\n",
    "(train_X, train_Y) ,  (test_X, test_Y) = mnist.load_data()\n",
    "\n",
    "train_X = train_X/255.0\n",
    "test_X = test_X/255.0\n",
    "\n",
    "model = tf.keras.models.Sequential([tf.keras.layers.Flatten(),\n",
    "                                    tf.keras.layers.Dense(512, activation=tf.nn.relu),\n",
    "                                    tf.keras.layers.Dense(10, activation=tf.nn.softmax)])\n",
    "\n",
    "model.compile(optimizer = 'adam',\n",
    "              loss = 'sparse_categorical_crossentropy')\n",
    "\n",
    "model.fit(train_X, train_Y, epochs=5)\n",
    "\n",
    "model.evaluate(test_X, test_Y)\n",
    "\n",
    "classifications = model.predict(test_X)\n",
    "\n",
    "print(classifications[0])\n",
    "print(test_Y[0])"
   ]
  },
  {
   "cell_type": "markdown",
   "metadata": {
    "colab_type": "text",
    "id": "E7W2PT66ZBHQ"
   },
   "source": [
    "### Exercice 8: \n",
    "\n",
    "Tout à l'heure, vous avez entraîné votre modèle avec trop d'epochs et votre loss ne changeait pas. Vous aviez dû attendre pour obtenir le résultat final, et vous vous dîtes que ce serait bien si vous pouviez interrompre l'entraînement dès qu'une certaine valeur a été atteinte. Par exemple, vous estimez qu'un accuracy à 95% vous suffit et si vous arrivez à l'obtenir au bout de 3 epochs, pouquoi en attendre encore plus ? Donc commment faire pour stopper l'entraînement ? Vous avez ... les callbacks ! Regardons les en action."
   ]
  },
  {
   "cell_type": "code",
   "execution_count": null,
   "metadata": {
    "colab": {},
    "colab_type": "code",
    "id": "pkaEHHgqZbYv"
   },
   "outputs": [],
   "source": [
    "import tensorflow as tf\n",
    "print(tf.__version__)\n",
    "\n",
    "class myCallback(tf.keras.callbacks.Callback):\n",
    "  def on_epoch_end(self, epoch, logs={}):\n",
    "    if(logs.get('loss')<0.4):\n",
    "      print(\"\\nAtteint 60% d'accuracy donc on coupe l'entraînement !\")\n",
    "      self.model.stop_training = True\n",
    "\n",
    "callbacks = myCallback()\n",
    "mnist = tf.keras.datasets.fashion_mnist\n",
    "(train_X, train_Y), (test_X, test_Y) = mnist.load_data()\n",
    "train_X=train_X/255.0\n",
    "test_X=test_X/255.0\n",
    "model = tf.keras.models.Sequential([\n",
    "  tf.keras.layers.Flatten(),\n",
    "  tf.keras.layers.Dense(512, activation=tf.nn.relu),\n",
    "  tf.keras.layers.Dense(10, activation=tf.nn.softmax)\n",
    "])\n",
    "model.compile(optimizer='adam', loss='sparse_categorical_crossentropy')\n",
    "model.fit(train_X, train_Y, epochs=5, callbacks=[callbacks])"
   ]
  }
 ],
 "metadata": {
  "colab": {
   "collapsed_sections": [],
   "name": "Course 1 - Part 4 - Lesson 2 - Notebook.ipynb",
   "provenance": [
    {
     "file_id": "1yhyaHJIeyutXBuE2HmViuD-tV5EMqzUG",
     "timestamp": 1547798065395
    }
   ],
   "version": "0.3.2"
  },
  "kernelspec": {
   "display_name": "Python 3",
   "language": "python",
   "name": "python3"
  },
  "language_info": {
   "codemirror_mode": {
    "name": "ipython",
    "version": 3
   },
   "file_extension": ".py",
   "mimetype": "text/x-python",
   "name": "python",
   "nbconvert_exporter": "python",
   "pygments_lexer": "ipython3",
   "version": "3.7.3"
  }
 },
 "nbformat": 4,
 "nbformat_minor": 1
}
