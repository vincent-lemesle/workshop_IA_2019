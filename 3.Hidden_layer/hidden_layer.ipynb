{
 "cells": [
  {
   "cell_type": "markdown",
   "metadata": {},
   "source": [
    "# Classification de données non linéaires avec une couche cachée\n",
    "\n",
    "Bonjour et bienvenue à ce workshop dans lequel nous allons construire notre premier réseau de neurones profond (deep learning), contenant une couche cachée. Vous remarquerez une grosse différence entre ce modèle et celui que vous avez implémenté avec la régression logistique.\n",
    "\n",
    "\n",
    "**Ce que vous allez apprendre:**\n",
    "- Implémenter un réseau de neurones avec une couche cachée pour une classification à 2 classes\n",
    "- Utiliser les neurones avec une fonction d'activation non linéaire, comme la tanh\n",
    "- Calculer la loss cross-entropy\n",
    "- Implémenter les forward et backward propagations"
   ]
  },
  {
   "cell_type": "markdown",
   "metadata": {},
   "source": [
    "## 1 - Packages ##\n",
    "\n",
    "Commençons par importer les packages dont nous aurons besoin:\n",
    "- [numpy](www.numpy.org) est le package fondamental pour le calcul scientifique en Python.\n",
    "- [sklearn](http://scikit-learn.org/stable/) dispose de nombreuses fonctions pour la construction et l'analyse des données. \n",
    "- [matplotlib](http://matplotlib.org) est une librairie pour afficher des graphes, tableaux, etc. en Python.\n",
    "- tests fournit quelques exemples tests pour vérifier vos fonctions\n",
    "- utils fournit de nombreuses fonctions utiles dont nous avons besoin pour ce notebook"
   ]
  },
  {
   "cell_type": "code",
   "execution_count": null,
   "metadata": {
    "scrolled": false
   },
   "outputs": [],
   "source": [
    "import numpy as np\n",
    "import matplotlib.pyplot as plt\n",
    "from tests import *\n",
    "import sklearn\n",
    "import sklearn.datasets\n",
    "import sklearn.linear_model\n",
    "from utils import plot_decision_boundary, sigmoid, load_planar_dataset, load_extra_datasets\n",
    "\n",
    "%matplotlib inline\n",
    "\n",
    "np.random.seed(1) # seed pour comparer avec les valeurs attendues, ne pas modifier !!"
   ]
  },
  {
   "cell_type": "markdown",
   "metadata": {},
   "source": [
    "## 2 - Dataset ##\n",
    "\n",
    "Tout d'abord, récupérons le jeu de données. Le code suivant va initialiser un jeu de données \"fleur\" à 2 classes dans les  variables `X` et `Y`."
   ]
  },
  {
   "cell_type": "code",
   "execution_count": null,
   "metadata": {
    "scrolled": false
   },
   "outputs": [],
   "source": [
    "X, Y = load_planar_dataset()"
   ]
  },
  {
   "cell_type": "markdown",
   "metadata": {},
   "source": [
    "Visualisez le jeu de données avec matplotlib. Les données ressemblent à une \"fleur\" avec des points rouges (label y = 0) et bleus (y = 1). Votre but est de construire un modèle qui classeront correctement ces données."
   ]
  },
  {
   "cell_type": "code",
   "execution_count": null,
   "metadata": {
    "scrolled": false
   },
   "outputs": [],
   "source": [
    "c = []\n",
    "for i in range(Y.shape[1]):\n",
    "    if i < Y.shape[1] / 2: c.append('red')\n",
    "    else: c.append('blue')\n",
    "plt.scatter(X[0, :], X[1, :], c=c, s=40, cmap=plt.cm.Spectral);"
   ]
  },
  {
   "cell_type": "markdown",
   "metadata": {},
   "source": [
    "Vous avez:\n",
    "    - un numpy-array (matrix) X qui contient vos features (x1, x2)\n",
    "    - un numpy-array (vecteur) Y qui contient vos labels (rouge:0, bleu:1).\n",
    "\n",
    "Analysons davantage nos données.\n",
    "\n",
    "**Exercice**: Combien d'exemples de train avez vous ? De plus, quels sont les shapes des variables `X` et `Y`? \n",
    "\n",
    "**Indice**: Comment récupérez vous le shape d'un numpy array ? [(help)](https://docs.scipy.org/doc/numpy/reference/generated/numpy.ndarray.shape.html)"
   ]
  },
  {
   "cell_type": "code",
   "execution_count": null,
   "metadata": {
    "scrolled": false
   },
   "outputs": [],
   "source": [
    "### Début du code ### (≈ 3 lignes de code)\n",
    "shape_X = None\n",
    "shape_Y = None\n",
    "### Fin du code ###\n",
    "\n",
    "print ('Le shape de X est: ' + str(shape_X))\n",
    "print ('Le shape de Y est: ' + str(shape_Y))"
   ]
  },
  {
   "cell_type": "markdown",
   "metadata": {},
   "source": [
    "**Résultat attendu**:\n",
    "       \n",
    "<table style=\"width:20%\">\n",
    "  \n",
    "  <tr>\n",
    "    <td>shape de X</td>\n",
    "    <td> (2, 400) </td> \n",
    "  </tr>\n",
    "  \n",
    "  <tr>\n",
    "    <td>shape de Y</td>\n",
    "    <td>(1, 400) </td> \n",
    "  </tr>\n",
    "\n",
    "  </tr>\n",
    "  \n",
    "</table>"
   ]
  },
  {
   "cell_type": "markdown",
   "metadata": {},
   "source": [
    "## 3 - Simple régression logistiaue\n",
    "\n",
    "Avant de construire un réseau de neurones complet, visualisons les performances de la régression logistique à ce problème. Vous pouvez utilisez les fonctions de sklearn pour le faire. Exécutez la cellule suivant pour entraîner une régression logistique sur notre jeu de données. "
   ]
  },
  {
   "cell_type": "code",
   "execution_count": null,
   "metadata": {
    "scrolled": false
   },
   "outputs": [],
   "source": [
    "# Entrainement du classifier régression logistique\n",
    "clf = sklearn.linear_model.LogisticRegressionCV(cv=5);\n",
    "clf.fit(X.T, Y.T.ravel());"
   ]
  },
  {
   "cell_type": "markdown",
   "metadata": {},
   "source": [
    "Vous pouvez maintenant plotter le decision boundary (limite de décision) de ce modèle. Exécutez le code suivant. \n",
    "\n",
    "**Attention:** Suite à des problèmes de versions matplotlib, il se peut que vous ne voyez pas les points initiaux. L'important est de voir comment la régression logistique a apporté sa solution au problème. Appelez un assistant si vous ne comprenez pas."
   ]
  },
  {
   "cell_type": "code",
   "execution_count": null,
   "metadata": {
    "scrolled": false
   },
   "outputs": [],
   "source": [
    "# Plot de la decision boundary pour la régression logistique\n",
    "try:\n",
    "    plot_decision_boundary(lambda x: clf.predict(x), X, Y)\n",
    "except:\n",
    "    print(\"Suite à un problème de version matplotlib, vous ne voyez pas les points initiaux. Reprenez le graphique précédent et imaginez les points comme étant plot.\")\n",
    "    pass\n",
    "plt.title(\"Régression logistique\")\n",
    "\n",
    "# Print l'accuracy\n",
    "LR_predictions = clf.predict(X.T)\n",
    "print ('Accuracy de la régression logistique: %d ' % float((np.dot(Y,LR_predictions) + np.dot(1-Y,1-LR_predictions))/float(Y.size)*100) +\n",
    "       '% ' + \"de points labellisés corrects\")"
   ]
  },
  {
   "cell_type": "markdown",
   "metadata": {},
   "source": [
    "**Résultat attendu**:\n",
    "\n",
    "<table style=\"width:20%\">\n",
    "  <tr>\n",
    "    <td>Accuracy</td>\n",
    "    <td> 47% </td> \n",
    "  </tr>\n",
    "  \n",
    "</table>\n"
   ]
  },
  {
   "cell_type": "markdown",
   "metadata": {},
   "source": [
    "**Interpretation**: Ce jeu de données n'est pas linéairement séparable, donc la logistique régression ne fonctionne pas ici. Heureusement, un réseau de neurones profond pourra résoudre notre problème. C'est parti ! "
   ]
  },
  {
   "cell_type": "markdown",
   "metadata": {},
   "source": [
    "## 4 - Réseau de neurones profond\n",
    "\n",
    "La régression logistique ne fonctionne pas sur notre jeu de données. Vous allez maintenant entraîner un réseau de neurones profond avec une couche cachée.\n",
    "\n",
    "**Voici notre modèle**:\n",
    "<img src=\"images/classification_kiank.png\" style=\"width:600px;height:300px;\">\n",
    "\n",
    "**Mathématiquement**:\n",
    "\n",
    "Pour un exemple $x^{(i)}$:\n",
    "$$z^{[1] (i)} =  W^{[1]} x^{(i)} + b^{[1]}\\tag{1}$$ \n",
    "$$a^{[1] (i)} = \\tanh(z^{[1] (i)})\\tag{2}$$\n",
    "$$z^{[2] (i)} = W^{[2]} a^{[1] (i)} + b^{[2]}\\tag{3}$$\n",
    "$$\\hat{y}^{(i)} = a^{[2] (i)} = \\sigma(z^{ [2] (i)})\\tag{4}$$\n",
    "$$y^{(i)}_{prediction} = \\begin{cases} 1 & \\mbox{si } a^{[2](i)} > 0.5 \\\\ 0 & \\mbox{sinon } \\end{cases}\\tag{5}$$\n",
    "\n",
    "A partir des prédictions calculées, vous pourrez calculer le coût grâce à la formule suivante:\n",
    "$$J = - \\frac{1}{m} \\sum\\limits_{i = 0}^{m} \\large\\left(\\small y^{(i)}\\log\\left(a^{[2] (i)}\\right) + (1-y^{(i)})\\log\\left(1- a^{[2] (i)}\\right)  \\large  \\right) \\small \\tag{6}$$\n",
    "\n",
    "**Rappel**: La méthodologie générale pour construire un réseau de neurones est la suivante:\n",
    "    1. Définir la structure du réseau de neurones ( nombre de features en entrée,  nombre de couches cachées, etc). \n",
    "    2. Initialiser les paramètres du modèle\n",
    "    3. Boucle:\n",
    "        - Implémenter la forward propagation\n",
    "        - Calcul du coût\n",
    "        - Implémenter la backward propagation pour avoir les gradients\n",
    "        - Update des paramètres \n",
    "\n",
    "Après avoir créé vos fonctions, vous allez les merger en une unique fonction qu'on nommera `nn_model()`. \n",
    "Quand ce modèle sera entraîné, vous pourrez réaliser des prédictions sur des nouvelles données."
   ]
  },
  {
   "cell_type": "markdown",
   "metadata": {},
   "source": [
    "### 4.1 - Définir la structure du réseau de neurones ####\n",
    "\n",
    "**Exercice**: Définissez 3 variables:\n",
    "    - n_x: size de la couche d'entrée\n",
    "    - n_h: size de la couche cachée (définissez la à 4) \n",
    "    - n_y: size de la couche de sortie\n",
    "\n",
    "**Indice**: Utilisez les shapes de X et Y pour trouver n_x et n_y. Hardcodez directement la couche cachée."
   ]
  },
  {
   "cell_type": "code",
   "execution_count": null,
   "metadata": {
    "scrolled": false
   },
   "outputs": [],
   "source": [
    "def layer_sizes(X, Y):\n",
    "    \"\"\"\n",
    "    Arguments:\n",
    "    X -- jeu de données en entrée de shape (size en entrée, nombre d'exemples)\n",
    "    Y -- labels de shape (size en sortie, nombre d'exemples)\n",
    "    \"\"\"\n",
    "    ### Début du code ### (≈ 3 lignes de code)\n",
    "    n_x = None # size de la couche d'entrée\n",
    "    n_h = None\n",
    "    n_y = None # size de la couche de sortie\n",
    "    ### Fin du code ###\n",
    "    return (n_x, n_h, n_y)"
   ]
  },
  {
   "cell_type": "code",
   "execution_count": null,
   "metadata": {
    "scrolled": false
   },
   "outputs": [],
   "source": [
    "X_assess, Y_assess = layer_sizes_test_case()\n",
    "(n_x, n_h, n_y) = layer_sizes(X_assess, Y_assess)\n",
    "print(\"Size de la couche d'entrée: n_x = \" + str(n_x))\n",
    "print(\"Size de la couche cachée: n_h = \" + str(n_h))\n",
    "print(\"Size de la couche de sortie: n_y = \" + str(n_y))"
   ]
  },
  {
   "cell_type": "markdown",
   "metadata": {},
   "source": [
    "**Résultat attentu** (il ne s'agit pas du nombres de neurones que nous utiliserons pour notre modèle, juste un test pour vérifier votre fonction).\n",
    "\n",
    "<table style=\"width:20%\">\n",
    "  <tr>\n",
    "    <td>n_x</td>\n",
    "    <td> 5 </td> \n",
    "    </tr>\n",
    "    <tr>\n",
    "    <td>n_h</td>\n",
    "    <td> 4 </td> \n",
    "  </tr>\n",
    "    <tr>\n",
    "    <td>n_y</td>\n",
    "    <td> 2 </td> \n",
    "  </tr>\n",
    "  \n",
    "</table>"
   ]
  },
  {
   "cell_type": "markdown",
   "metadata": {},
   "source": [
    "### 4.2 -Initialiser les paramètres du modèle ####\n",
    "\n",
    "**Exercice**: Implementez la function `initialize_parameters()`.\n",
    "\n",
    "**Instructions**:\n",
    "- Soyez sûrs que les sizes de vos paramètres sont correctes. Regardez le schéma au-dessus si nécessaire.\n",
    "- Vous initialiserez les matrices des poids avec des valeurs aléatoires\n",
    "    - Utilisez: `np.random.randn(a,b) * 0.01` pour initialiser aléatoirement une matrice de shape (a,b).\n",
    "- Vous initialisez les vectors des biais à 0.\n",
    "    - Utilisez: `np.zeros((a,b))` pour initialiser une matrice de shape (a,b) avec des zéros."
   ]
  },
  {
   "cell_type": "code",
   "execution_count": null,
   "metadata": {
    "scrolled": false
   },
   "outputs": [],
   "source": [
    "def initialize_parameters(n_x, n_h, n_y):\n",
    "    \"\"\"\n",
    "    Argument:\n",
    "    n_x -- size de la couche d'entrée\n",
    "    n_h -- size de la couche cachée (définissez la à 4) \n",
    "    n_y -- size de la couche de sortie\n",
    "    \n",
    "    Return:\n",
    "    params -- dictionnaire python contenant les paramètres:\n",
    "                    W1 -- matrice poids de shape (n_h, n_x)\n",
    "                    b1 -- vecteur biais shape (n_h, 1)\n",
    "                    W2 -- matrice poids shape (n_y, n_h)\n",
    "                    b2 -- vecteur biais shape (n_y, 1)\n",
    "    \"\"\"\n",
    "    \n",
    "    np.random.seed(42) # ne pas modifier le seed, il nous servira à comparer nos résultats\n",
    "    \n",
    "    ### Début du code ### (≈ 4 lignes de code)\n",
    "    W1 = None\n",
    "    b1 = None\n",
    "    W2 = None\n",
    "    b2 = None\n",
    "    ### Fin du code ###\n",
    "    \n",
    "    assert (W1.shape == (n_h, n_x))\n",
    "    assert (b1.shape == (n_h, 1))\n",
    "    assert (W2.shape == (n_y, n_h))\n",
    "    assert (b2.shape == (n_y, 1))\n",
    "    \n",
    "    parameters = {\"W1\": W1,\n",
    "                  \"b1\": b1,\n",
    "                  \"W2\": W2,\n",
    "                  \"b2\": b2}\n",
    "    \n",
    "    return parameters"
   ]
  },
  {
   "cell_type": "code",
   "execution_count": null,
   "metadata": {
    "scrolled": false
   },
   "outputs": [],
   "source": [
    "n_x, n_h, n_y = initialize_parameters_test_case()\n",
    "\n",
    "parameters = initialize_parameters(n_x, n_h, n_y)\n",
    "print(\"W1 = \" + str(parameters[\"W1\"]))\n",
    "print(\"b1 = \" + str(parameters[\"b1\"]))\n",
    "print(\"W2 = \" + str(parameters[\"W2\"]))\n",
    "print(\"b2 = \" + str(parameters[\"b2\"]))"
   ]
  },
  {
   "cell_type": "markdown",
   "metadata": {},
   "source": [
    "**Résultat attendu**:\n",
    "\n",
    "<table style=\"width:90%\">\n",
    "  <tr>\n",
    "    <td>W1</td>\n",
    "    <td> [[ 0.00496714 -0.00138264]\n",
    " [ 0.00647689  0.0152303 ]\n",
    " [-0.00234153 -0.00234137]\n",
    " [ 0.01579213  0.00767435]] </td> \n",
    "  </tr>\n",
    "  \n",
    "  <tr>\n",
    "    <td>b1</td>\n",
    "    <td> [[ 0.]\n",
    " [ 0.]\n",
    " [ 0.]\n",
    " [ 0.]] </td> \n",
    "  </tr>\n",
    "  \n",
    "  <tr>\n",
    "    <td>W2</td>\n",
    "    <td> [[-0.00469474  0.0054256  -0.00463418 -0.0046573 ]]</td> \n",
    "  </tr>\n",
    "  \n",
    "\n",
    "  <tr>\n",
    "    <td>b2</td>\n",
    "    <td> [[ 0.]] </td> \n",
    "  </tr>\n",
    "  \n",
    "</table>\n",
    "\n"
   ]
  },
  {
   "cell_type": "markdown",
   "metadata": {},
   "source": [
    "### 4.3 -La boucle ####\n",
    "\n",
    "**Exercice**: Implementez `forward_propagation()`.\n",
    "\n",
    "**Instructions**:\n",
    "- Regardez au-dessus les formules mathématiques de votre modèle.\n",
    "- Vous pouvez utiliser la fonction `sigmoid()`. Nous l'avons défini et importé au début depuis utils.\n",
    "- Vous pouvez utiliser la fonction `np.tanh()`. C'est une fonction de la lib numpy.\n",
    "- Les étapes que vous devez implémenter sont les suivantes:\n",
    "    1. Récuperez chaque paramètre à partir du dictionnaire python \"parameters\" (qui correspond à l'output de `initialize_parameters()`). \n",
    "    2. Implémentez la forward propagation. Calculez $Z^{[1]}, A^{[1]}, Z^{[2]}$ et $A^{[2]}$. Rappel: Z correspond à la pré-activation et A à l'activation.\n",
    "- Les valeurs dont vous aurez besoin pour la backpropagation sont stockées dans \"`cache`\". Le dictionnaire `cache` sera un argument de la fonction backpropagation."
   ]
  },
  {
   "cell_type": "code",
   "execution_count": null,
   "metadata": {
    "scrolled": false
   },
   "outputs": [],
   "source": [
    "def forward_propagation(X, parameters):\n",
    "    \"\"\"\n",
    "    Argument:\n",
    "    X -- données en entrée de size (n_x, m)\n",
    "    parameters -- dictionnaire python contenant vos paramètres (poids et biais)\n",
    "    \n",
    "    Return:\n",
    "    A2 -- L'output de la sigmoïde de la deuxième activation\n",
    "    cache -- dictionnaire contenant \"Z1\", \"A1\", \"Z2\" et \"A2\"\n",
    "    \"\"\"\n",
    "    # Récupérez chaque paramètre du dictionnaire \"parameters\"\n",
    "    ### Début du code ### (≈ 4 lignes de code)\n",
    "    W1 = None\n",
    "    b1 = None\n",
    "    W2 = None\n",
    "    b2 = None\n",
    "    ### Fin du code ###\n",
    "    \n",
    "    # Implémentez la forward porpagation pour calculer A2 (probabilités)\n",
    "    ### Début du code ### (≈ 4 lignes de code)\n",
    "    Z1 = None\n",
    "    A1 = None\n",
    "    Z2 = None\n",
    "    A2 = None\n",
    "    ### Fin du code ###\n",
    "    \n",
    "    assert(A2.shape == (1, X.shape[1]))\n",
    "    \n",
    "    cache = {\"Z1\": Z1,\n",
    "             \"A1\": A1,\n",
    "             \"Z2\": Z2,\n",
    "             \"A2\": A2}\n",
    "    \n",
    "    return A2, cache"
   ]
  },
  {
   "cell_type": "code",
   "execution_count": null,
   "metadata": {
    "scrolled": false
   },
   "outputs": [],
   "source": [
    "X_assess, parameters = forward_propagation_test_case()\n",
    "A2, cache = forward_propagation(X_assess, parameters)\n",
    "\n",
    "# Note: on utilise la moyenne ici pour vérifier que vos résultats matchent avec les notres\n",
    "print(np.mean(cache['Z1']) ,np.mean(cache['A1']),np.mean(cache['Z2']),np.mean(cache['A2']))"
   ]
  },
  {
   "cell_type": "markdown",
   "metadata": {},
   "source": [
    "**Résultat attendu**:\n",
    "<table style=\"width:50%\">\n",
    "  <tr>\n",
    "    <td> 0.262818640198 0.091999045227 -1.30766601287 0.212877681719 </td> \n",
    "  </tr>\n",
    "</table>"
   ]
  },
  {
   "cell_type": "markdown",
   "metadata": {},
   "source": [
    "Maintenant que vous avez calculé $A^{[2]}$ (dans la variable Python \"`A2`\"), qui contient $a^{[2](i)}$ pour tous les exemples, vous pouvez calculer le coût de la manière suivante:\n",
    "\n",
    "$$J = - \\frac{1}{m} \\sum\\limits_{i = 0}^{m} \\large{(} \\small y^{(i)}\\log\\left(a^{[2] (i)}\\right) + (1-y^{(i)})\\log\\left(1- a^{[2] (i)}\\right) \\large{)} \\small\\tag{13}$$\n",
    "\n",
    "**Exercice**: Implementez `compute_cost()` pour calculer la valeur du coût $J$.\n",
    "\n",
    "**Instructions**:\n",
    "- Il y a plusieurs façon d'implémenter la loss cross-entropy. Pour vous aider, on vous met ici comment on aurait calculé $- \\sum\\limits_{i=0}^{m}  y^{(i)}\\log(a^{[2](i)})$:\n",
    "```python\n",
    "logprobs = np.multiply(np.log(A2),Y)\n",
    "cost = - np.sum(logprobs)                # pas besoin d'utiliser une boucle for !\n",
    "```\n",
    "\n",
    "(vous pouvez utiliser `np.multiply()` puis `np.sum()` ou directement `np.dot()`)."
   ]
  },
  {
   "cell_type": "code",
   "execution_count": null,
   "metadata": {
    "scrolled": false
   },
   "outputs": [],
   "source": [
    "def compute_cost(A2, Y, parameters):\n",
    "    \"\"\"\n",
    "    Calculez le coût cross-entropy dont la formule se trouve dans l'équation (13)\n",
    "    \n",
    "    Arguments:\n",
    "    A2 -- L'output de la sigmoïde de la deuxième activation, de shape (1, nombre d'exemples)\n",
    "    Y -- vecteur contenant les labels, de shape (1, number of examples)\n",
    "    parameters -- dictionnaire python contenant vos paramètres W1, b1, W2 and b2\n",
    "    \n",
    "    Return:\n",
    "    cost -- coût cross-entropy selon l'équation (13)\n",
    "    \"\"\"\n",
    "    m = Y.shape[1] # nombre d'exemples\n",
    "\n",
    "    # Calculez la cross entropy\n",
    "    ### Début du code ### (≈ 2 lignes de code)\n",
    "    logprobs = None\n",
    "    cost = None\n",
    "    ### Fin du code ###\n",
    "    \n",
    "    cost = np.squeeze(cost)     \n",
    "    assert(isinstance(cost, float))\n",
    "    \n",
    "    return cost"
   ]
  },
  {
   "cell_type": "code",
   "execution_count": null,
   "metadata": {
    "scrolled": false
   },
   "outputs": [],
   "source": [
    "A2, Y_assess, parameters = compute_cost_test_case()\n",
    "\n",
    "print(\"cost = \" + str(compute_cost(A2, Y_assess, parameters)))"
   ]
  },
  {
   "cell_type": "markdown",
   "metadata": {},
   "source": [
    "**Résultat attendu**:\n",
    "<table style=\"width:20%\">\n",
    "  <tr>\n",
    "    <td>cost</td>\n",
    "    <td> 0.693058761... </td> \n",
    "  </tr>\n",
    "  \n",
    "</table>"
   ]
  },
  {
   "cell_type": "markdown",
   "metadata": {},
   "source": [
    "Grâce au dictionnaire \"cache\" que vous avez calculé pendant la forward propagation, vous pouvez maintenant implémenter la backward propagation.\n",
    "\n",
    "**Exercice**: Implementez la fonction `backward_propagation()`.\n",
    "\n",
    "**Instructions**:\n",
    "La backpropagation est généralement la partie la plus compliquée en deep learning (la plus mathématique). Pour vous aider, on vous a mis ici les différentes étapes de la backpropagation.  \n",
    "\n",
    "<img src=\"images/grad_summary.png\" style=\"width:600px;height:300px;\">\n",
    "\n",
    "<!--\n",
    "$\\frac{\\partial \\mathcal{J} }{ \\partial z_{2}^{(i)} } = \\frac{1}{m} (a^{[2](i)} - y^{(i)})$\n",
    "\n",
    "$\\frac{\\partial \\mathcal{J} }{ \\partial W_2 } = \\frac{\\partial \\mathcal{J} }{ \\partial z_{2}^{(i)} } a^{[1] (i) T} $\n",
    "\n",
    "$\\frac{\\partial \\mathcal{J} }{ \\partial b_2 } = \\sum_i{\\frac{\\partial \\mathcal{J} }{ \\partial z_{2}^{(i)}}}$\n",
    "\n",
    "$\\frac{\\partial \\mathcal{J} }{ \\partial z_{1}^{(i)} } =  W_2^T \\frac{\\partial \\mathcal{J} }{ \\partial z_{2}^{(i)} } * ( 1 - a^{[1] (i) 2}) $\n",
    "\n",
    "$\\frac{\\partial \\mathcal{J} }{ \\partial W_1 } = \\frac{\\partial \\mathcal{J} }{ \\partial z_{1}^{(i)} }  X^T $\n",
    "\n",
    "$\\frac{\\partial \\mathcal{J} _i }{ \\partial b_1 } = \\sum_i{\\frac{\\partial \\mathcal{J} }{ \\partial z_{1}^{(i)}}}$\n",
    "\n",
    "- Note that $*$ denotes elementwise multiplication.\n",
    "- The notation you will use is common in deep learning coding:\n",
    "    - dW1 = $\\frac{\\partial \\mathcal{J} }{ \\partial W_1 }$\n",
    "    - db1 = $\\frac{\\partial \\mathcal{J} }{ \\partial b_1 }$\n",
    "    - dW2 = $\\frac{\\partial \\mathcal{J} }{ \\partial W_2 }$\n",
    "    - db2 = $\\frac{\\partial \\mathcal{J} }{ \\partial b_2 }$\n",
    "    \n",
    "!-->\n",
    "\n",
    "- Indice:\n",
    "    - Pour calculer dZ1 vous devrez calculer $g^{[1]'}(Z^{[1]})$. Comme $g^{[1]}(.)$ est la fonction d'activation tanh, si $a = g^{[1]}(z)$ alors $g^{[1]'}(z) = 1-a^2$. Vous pourrez ensuite calculer \n",
    "    $g^{[1]'}(Z^{[1]})$ avec `(1 - np.power(A1, 2))`."
   ]
  },
  {
   "cell_type": "code",
   "execution_count": null,
   "metadata": {
    "scrolled": false
   },
   "outputs": [],
   "source": [
    "def backward_propagation(parameters, cache, X, Y):\n",
    "    \"\"\"\n",
    "    Implémentez la backward propagation en suivant les instructions ci-dessus\n",
    "    \n",
    "    Arguments:\n",
    "    parameters -- dictionnaire python contenant vos paramètres\n",
    "    cache -- dictionnaire python contenant \"Z1\", \"A1\", \"Z2\"  et \"A2\".\n",
    "    X -- données en entrée de shape (2, nombre d'exemples)\n",
    "    Y -- vecteur des labels de shape (1, nombre d'exemples)\n",
    "    \n",
    "    Return:\n",
    "    grads -- dictionnaire python contenant vos gradients\n",
    "    \"\"\"\n",
    "    m = X.shape[1]\n",
    "    \n",
    "    # Récuperez W1 et W2 à partie de parameters\n",
    "    ### Début du code ### (≈ 2 lignes de code)\n",
    "    W1 = None\n",
    "    W2 = None\n",
    "    ### Fin du code ###\n",
    "        \n",
    "    # Récupérez également A1 et A2 depuis le dictionnaire \"cache\".\n",
    "    ### Début du code ### (≈ 2 lignes de code)\n",
    "    A1 = None\n",
    "    A2 = None\n",
    "    ### Fin du code ###\n",
    "    \n",
    "    # Backward propagation: calculez les gradients dW1, db1, dW2, db2. \n",
    "    ### Début du code ### (≈ 6 lignes de code, correspondant aux 6 équations de la cellule au-dessus)\n",
    "    dZ2 = None\n",
    "    dW2 = None\n",
    "    db2 = None\n",
    "    dZ1 = None\n",
    "    dW1 = None\n",
    "    db1 = None\n",
    "    ### Fin du code ###\n",
    "    \n",
    "    grads = {\"dW1\": dW1,\n",
    "             \"db1\": db1,\n",
    "             \"dW2\": dW2,\n",
    "             \"db2\": db2}\n",
    "    \n",
    "    return grads"
   ]
  },
  {
   "cell_type": "code",
   "execution_count": null,
   "metadata": {
    "scrolled": false
   },
   "outputs": [],
   "source": [
    "parameters, cache, X_assess, Y_assess = backward_propagation_test_case()\n",
    "\n",
    "grads = backward_propagation(parameters, cache, X_assess, Y_assess)\n",
    "print (\"dW1 = \"+ str(grads[\"dW1\"]))\n",
    "print (\"db1 = \"+ str(grads[\"db1\"]))\n",
    "print (\"dW2 = \"+ str(grads[\"dW2\"]))\n",
    "print (\"db2 = \"+ str(grads[\"db2\"]))"
   ]
  },
  {
   "cell_type": "markdown",
   "metadata": {},
   "source": [
    "**Résultat attendu**:\n",
    "\n",
    "\n",
    "\n",
    "<table style=\"width:80%\">\n",
    "  <tr>\n",
    "    <td>dW1</td>\n",
    "    <td> [[ 0.00301023 -0.00747267]\n",
    " [ 0.00257968 -0.00641288]\n",
    " [-0.00156892  0.003893  ]\n",
    " [-0.00652037  0.01618243]] </td> \n",
    "  </tr>\n",
    "  \n",
    "  <tr>\n",
    "    <td>db1</td>\n",
    "    <td>  [[ 0.00176201]\n",
    " [ 0.00150995]\n",
    " [-0.00091736]\n",
    " [-0.00381422]] </td> \n",
    "  </tr>\n",
    "  \n",
    "  <tr>\n",
    "    <td>dW2</td>\n",
    "    <td> [[ 0.00078841  0.01765429 -0.00084166 -0.01022527]] </td> \n",
    "  </tr>\n",
    "  \n",
    "\n",
    "  <tr>\n",
    "    <td>db2</td>\n",
    "    <td> [[-0.16655712]] </td> \n",
    "  </tr>\n",
    "  \n",
    "</table>  "
   ]
  },
  {
   "cell_type": "markdown",
   "metadata": {},
   "source": [
    "**Exercice**: Implementez la fonction update_parameters. Utilisez la descente de gradient. Vous devez vous servir de (dW1, db1, dW2, db2) afin d'update (W1, b1, W2, b2).\n",
    "\n",
    "**Règle générale de la descente de gradient**: $ \\theta = \\theta - \\alpha \\frac{\\partial J }{ \\partial \\theta }$ avec $\\alpha$ le learning rate et $\\theta$ représentant le paramètre.\n",
    "\n",
    "**Illustration**: Vous pouvez comparer ci-dessous la différence avec un bon learning rate (convergence) et un mauvais learning rate (divergence). Crédits animation: Adam Harley.\n",
    "\n",
    "<img src=\"images/sgd.gif\" style=\"width:400;height:400;\"> <img src=\"images/sgd_bad.gif\" style=\"width:400;height:400;\">\n",
    "\n"
   ]
  },
  {
   "cell_type": "code",
   "execution_count": null,
   "metadata": {
    "scrolled": false
   },
   "outputs": [],
   "source": [
    "def update_parameters(parameters, grads, lr = 1.2):\n",
    "    \"\"\"\n",
    "    Arguments:\n",
    "    parameters -- dictionnaire python contenant vos paramètres\n",
    "    grads -- dictionnaire python contenant vos gradients \n",
    "    \n",
    "    Return:\n",
    "    parameters -- dictionnaire python contenant vos paramètres updatés\n",
    "    \"\"\"\n",
    "    # Récuperer vos paramètres\n",
    "    ### Début du code ### (≈ 4 lignes de code)\n",
    "    W1 = None\n",
    "    b1 = None\n",
    "    W2 = None\n",
    "    b2 = None\n",
    "    ### Fin du code ###\n",
    "    \n",
    "    # Récupérez vos gradients\n",
    "    ### Début du code ### (≈ 4 lignes de code)\n",
    "    dW1 = None\n",
    "    db1 = None\n",
    "    dW2 = None\n",
    "    db2 = None\n",
    "    ## Fin du code ###\n",
    "    \n",
    "    # Updatez vos paramètres \n",
    "    ### Début du code ### (≈ 4 lignes de code)\n",
    "    W1 = None\n",
    "    b1 = None\n",
    "    W2 = None\n",
    "    b2 = None\n",
    "    ### Fin du code ###\n",
    "    \n",
    "    parameters = {\"W1\": W1,\n",
    "                  \"b1\": b1,\n",
    "                  \"W2\": W2,\n",
    "                  \"b2\": b2}\n",
    "    \n",
    "    return parameters"
   ]
  },
  {
   "cell_type": "code",
   "execution_count": null,
   "metadata": {
    "scrolled": true
   },
   "outputs": [],
   "source": [
    "parameters, grads = update_parameters_test_case()\n",
    "parameters = update_parameters(parameters, grads)\n",
    "\n",
    "print(\"W1 = \" + str(parameters[\"W1\"]))\n",
    "print(\"b1 = \" + str(parameters[\"b1\"]))\n",
    "print(\"W2 = \" + str(parameters[\"W2\"]))\n",
    "print(\"b2 = \" + str(parameters[\"b2\"]))"
   ]
  },
  {
   "cell_type": "markdown",
   "metadata": {},
   "source": [
    "**Résultat attendu**:\n",
    "\n",
    "\n",
    "<table style=\"width:80%\">\n",
    "  <tr>\n",
    "    <td>W1</td>\n",
    "    <td> [[-0.00643025  0.01936718]\n",
    " [-0.02410458  0.03978052]\n",
    " [-0.01653973 -0.02096177]\n",
    " [ 0.01046864 -0.05990141]]</td> \n",
    "  </tr>\n",
    "  \n",
    "  <tr>\n",
    "    <td>b1</td>\n",
    "    <td> [[ -1.02420756e-06]\n",
    " [  1.27373948e-05]\n",
    " [  8.32996807e-07]\n",
    " [ -3.20136836e-06]]</td> \n",
    "  </tr>\n",
    "  \n",
    "  <tr>\n",
    "    <td>W2</td>\n",
    "    <td> [[-0.01041081 -0.04463285  0.01758031  0.04747113]] </td> \n",
    "  </tr>\n",
    "  \n",
    "\n",
    "  <tr>\n",
    "    <td>b2</td>\n",
    "    <td> [[ 0.00010457]] </td> \n",
    "  </tr>\n",
    "  \n",
    "</table>  "
   ]
  },
  {
   "cell_type": "markdown",
   "metadata": {},
   "source": [
    "### 4.4 - Intégrez les parties 4.1, 4.2 et 4.3 dans nn_model() ####\n",
    "\n",
    "**Exercice**: Construisez votre réseau de neurones dans `nn_model()`.\n",
    "\n",
    "**Instructions**: Le réseau de neurones doit utiliser vos fonctions précédentes dans le bon ordre."
   ]
  },
  {
   "cell_type": "code",
   "execution_count": null,
   "metadata": {
    "scrolled": false
   },
   "outputs": [],
   "source": [
    "def nn_model(X, Y, n_h, num_iterations = 10000, print_cost=False):\n",
    "    \"\"\"\n",
    "    Arguments:\n",
    "    X -- dataset de shape (2, nombre d'exemples)\n",
    "    Y -- labels de shape (1, nombre d'exemples)\n",
    "    n_h -- size de la couche cachée\n",
    "    num_iterations -- Nombre d'itérations dans la boucle \n",
    "    print_cost -- si True, print le coût toutes les 1000 itérations\n",
    "    \n",
    "    Return:\n",
    "    parameters -- paramètres entraînés. Ce sont ces paramètres qui seront utilisés pour de nouvelles données.\n",
    "    \"\"\"\n",
    "    \n",
    "    np.random.seed(3)\n",
    "    n_x = layer_sizes(X, Y)[0]\n",
    "    n_y = layer_sizes(X, Y)[2]\n",
    "    \n",
    "    # Initialise les paramètres, puis récupère W1, b1, W2, b2. Inputs: \"n_x, n_h, n_y\". Outputs = \"W1, b1, W2, b2, parameters\".\n",
    "    ### Début du code ### (≈ 5 lignes de code)\n",
    "    parameters = None\n",
    "    W1 = None\n",
    "    b1 = None\n",
    "    W2 = None\n",
    "    b2 = None]\n",
    "    ### Fin du code ###\n",
    "    \n",
    "    # Boucle\n",
    "\n",
    "    for i in range(0, num_iterations):\n",
    "         \n",
    "        ### Début du code ### (≈ 4 lignes de code)\n",
    "        # Forward propagation. Inputs: \"X, parameters\". Outputs: \"A2, cache\".\n",
    "        A2, cache = None\n",
    "        \n",
    "        # Fonction de coût. Inputs: \"A2, Y, parameters\". Outputs: \"cost\".\n",
    "        cost = None\n",
    " \n",
    "        # Backpropagation. Inputs: \"parameters, cache, X, Y\". Outputs: \"grads\".\n",
    "        grads = None\n",
    " \n",
    "        # Update des paramètres. Inputs: \"parameters, grads\". Outputs: \"parameters\".\n",
    "        parameters = None\n",
    "        \n",
    "        ### Fin du code ###\n",
    "        \n",
    "        # Print le coût toutes les 1000 iterations\n",
    "        if print_cost and i % 1000 == 0:\n",
    "            print (\"Coût après itération %i: %f\" %(i, cost))\n",
    "\n",
    "    return parameters"
   ]
  },
  {
   "cell_type": "code",
   "execution_count": null,
   "metadata": {
    "scrolled": false
   },
   "outputs": [],
   "source": [
    "X_assess, Y_assess = nn_model_test_case()\n",
    "parameters = nn_model(X_assess, Y_assess, 4, num_iterations=10000, print_cost=True)\n",
    "print(\"W1 = \" + str(parameters[\"W1\"]))\n",
    "print(\"b1 = \" + str(parameters[\"b1\"]))\n",
    "print(\"W2 = \" + str(parameters[\"W2\"]))\n",
    "print(\"b2 = \" + str(parameters[\"b2\"]))"
   ]
  },
  {
   "cell_type": "markdown",
   "metadata": {},
   "source": [
    "**Résultat attendu**:\n",
    "\n",
    "<table style=\"width:90%\">\n",
    "\n",
    "<tr> \n",
    "    <td> \n",
    "        coût après itération 0\n",
    "    </td>\n",
    "    <td> \n",
    "        0.693207\n",
    "    </td>\n",
    "</tr>\n",
    "\n",
    "<tr> \n",
    "    <td> \n",
    "        <center> $\\vdots$ </center>\n",
    "    </td>\n",
    "    <td> \n",
    "        <center> $\\vdots$ </center>\n",
    "    </td>\n",
    "</tr>\n",
    "\n",
    "  <tr>\n",
    "    <td>W1</td>\n",
    "    <td> [[-0.60314397  1.127818  ]\n",
    " [-0.74257953  1.3776121 ]\n",
    " [-0.69186287  1.27565127]\n",
    " [-0.7349128   1.36877347]]</td> \n",
    "  </tr>\n",
    "  \n",
    "  <tr>\n",
    "    <td>b1</td>\n",
    "    <td> [[0.26051203]\n",
    " [0.35648363]\n",
    " [0.31850012]\n",
    " [0.35292858]] </td> \n",
    "  </tr>\n",
    "  \n",
    "  <tr>\n",
    "    <td>W2</td>\n",
    "    <td> [[-2.10582454 -3.16994587 -2.70047639 -3.11996342]] </td> \n",
    "  </tr>\n",
    "  \n",
    "\n",
    "  <tr>\n",
    "    <td>b2</td>\n",
    "    <td> [[0.21989657]] </td> \n",
    "  </tr>\n",
    "  \n",
    "</table>  "
   ]
  },
  {
   "cell_type": "markdown",
   "metadata": {},
   "source": [
    "### 4.5 Prédictions\n",
    "\n",
    "**Exercice**: Utilisez votre modèle pour prédire de nouvelles données. Implémentez predict().\n",
    "Utilisez la forward propagation\n",
    "\n",
    "**Rappel**: predictions = $y_{prediction} = \\mathbb 1 \\text{{activation > 0.5}} = \\begin{cases}\n",
    "      1 & \\text{si}\\ activation > 0.5 \\\\\n",
    "      0 & \\text{sinon}\n",
    "    \\end{cases}$  \n",
    "    \n",
    "Par exemple, si vous voulez définir les éléments d'une matrice X à 0 ou 1 en fonction d'un seuil, vous pouvez faire: ```X_new = (X > threshold)```"
   ]
  },
  {
   "cell_type": "code",
   "execution_count": null,
   "metadata": {
    "scrolled": false
   },
   "outputs": [],
   "source": [
    "def predict(parameters, X):\n",
    "    \"\"\"\n",
    "    Grâce aux paramètres appris, prédisez la classe pour chaque exemple de X\n",
    "    \n",
    "    Arguments:\n",
    "    parameters -- dictionnaire python contenant vos paramètres\n",
    "    X -- données en entrée de siwe (n_x, m)\n",
    "    \n",
    "    Returns\n",
    "    predictions -- vecteur des prédictions (rouge: 0 / bleu: 1)\n",
    "    \"\"\"\n",
    "    \n",
    "    # Calcule les propabilités en utilisant la forward propagation, et classifie en 0 ou 1 grâce au seuil défini comme 0.5\n",
    "    ### Début du code ### (≈ 2 lignes de code)\n",
    "    A, cache = None\n",
    "    predictions = None\n",
    "    ### Fin du code ###\n",
    "    \n",
    "    return predictions"
   ]
  },
  {
   "cell_type": "code",
   "execution_count": null,
   "metadata": {
    "scrolled": false
   },
   "outputs": [],
   "source": [
    "parameters, X_assess = predict_test_case()\n",
    "\n",
    "predictions = predict(parameters, X_assess)\n",
    "print(\"moyenne des predictions = \" + str(np.mean(predictions)))"
   ]
  },
  {
   "cell_type": "markdown",
   "metadata": {},
   "source": [
    "**Résultat attendu**: \n",
    "\n",
    "\n",
    "<table style=\"width:40%\">\n",
    "  <tr>\n",
    "    <td>moyenne des predictions</td>\n",
    "    <td> 0.666666666667 </td> \n",
    "  </tr>\n",
    "  \n",
    "</table>"
   ]
  },
  {
   "cell_type": "markdown",
   "metadata": {},
   "source": [
    "On peut maintenant entraîner notre modèle sur notre jeu de données. Exécutez le code suivant pour tester votre modèle avec une couche cachée de $n_h$ neurones. "
   ]
  },
  {
   "cell_type": "code",
   "execution_count": null,
   "metadata": {
    "scrolled": false
   },
   "outputs": [],
   "source": [
    "n_h = 5\n",
    "parameters = nn_model(X, Y, n_h = n_h, num_iterations = 10000, print_cost=True)\n",
    "\n",
    "# Plot la decision boundary\n",
    "try:\n",
    "    plot_decision_boundary(lambda x: predict(parameters, x.T), X, Y)\n",
    "except:\n",
    "    print(\"Suite à un problème de version matplotlib, vous ne voyez pas les points initiaux. Reprenez le graphique au début du notebook et imaginez les points comme étant plot.\")\n",
    "    pass\n",
    "plt.title(\"Decision Boundary pour une couche cachée de size \" + str(n_h))"
   ]
  },
  {
   "cell_type": "markdown",
   "metadata": {},
   "source": [
    "**Résultat attendu**:\n",
    "\n",
    "<table style=\"width:40%\">\n",
    "  <tr>\n",
    "    <td>Coût après itération 9000</td>\n",
    "    <td> 0.178517 </td> \n",
    "  </tr>\n",
    "  \n",
    "</table>\n"
   ]
  },
  {
   "cell_type": "code",
   "execution_count": null,
   "metadata": {
    "scrolled": false
   },
   "outputs": [],
   "source": [
    "# Print l'accurary\n",
    "predictions = predict(parameters, X)\n",
    "print ('Accuracy: %d' % float((np.dot(Y,predictions.T) + np.dot(1-Y,1-predictions.T))/float(Y.size)*100) + '%')"
   ]
  },
  {
   "cell_type": "markdown",
   "metadata": {},
   "source": [
    "**Résultat attendu**: \n",
    "\n",
    "<table style=\"width:15%\">\n",
    "  <tr>\n",
    "    <td>Accuracy</td>\n",
    "    <td> 91% </td> \n",
    "  </tr>\n",
    "</table>"
   ]
  },
  {
   "cell_type": "markdown",
   "metadata": {},
   "source": [
    "L'accurary est beaucoup plus élevé que celui de la régression logistique. Le modèle a pu apprendre le pattern des feuilles de la fleur. Contrairement à la régression logistique, les réseaux de neurones profonds sont capables de traiter des problèmes non linéaires.\n",
    "\n",
    "Essayez maintenant avec plusieurs nombres de neurones différents dans la couche cachée. "
   ]
  },
  {
   "cell_type": "markdown",
   "metadata": {},
   "source": [
    "### 4.6 - Tuning du nombre de neurones dans la couche cachée ###\n",
    "\n",
    "Exécutez le code suivant. Cela devrait prendre 1-2 minutes. Vous observerez des comportements différents du modèle selon le nombre de neurones que vous aurez défini dans la couche cachée."
   ]
  },
  {
   "cell_type": "code",
   "execution_count": null,
   "metadata": {
    "scrolled": false
   },
   "outputs": [],
   "source": [
    "# Cela devrait prendre 2 minutes\n",
    "\n",
    "plt.figure(figsize=(16, 32))\n",
    "hidden_layer_sizes = [1, 2, 3, 4, 5, 20, 50]\n",
    "for i, n_h in enumerate(hidden_layer_sizes):\n",
    "    plt.subplot(5, 2, i+1)\n",
    "    plt.title('Hidden Layer of size %d' % n_h)\n",
    "    parameters = nn_model(X, Y, n_h, num_iterations = 5000)\n",
    "    try:\n",
    "        plot_decision_boundary(lambda x: predict(parameters, x.T), X, Y)\n",
    "    except:\n",
    "        print(\"Suite à un problème de version matplotlib, vous ne voyez pas les points initiaux. Reprenez le graphique au début du notebook et imaginez les points comme étant plot.\")\n",
    "    predictions = predict(parameters, X)\n",
    "    accuracy = float((np.dot(Y,predictions.T) + np.dot(1-Y,1-predictions.T))/float(Y.size)*100)\n",
    "    print (\"Accuracy for {} hidden units: {} %\".format(n_h, accuracy))"
   ]
  },
  {
   "cell_type": "markdown",
   "metadata": {},
   "source": [
    "**Interpretation**:\n",
    "- Le plus gros modèle est capable de mieux classifier le jeu de données de train, jusqu'à overfitter les données. \n",
    "- Le meilleur modèle semble être celui avec 5 neurones.\n",
    "\n",
    "Une méthode pour éviter l'overfitting est la régularisation. Nous aurons peut etre l'occasion de voir ça dans un futur workshop."
   ]
  },
  {
   "cell_type": "markdown",
   "metadata": {},
   "source": [
    "References:\n",
    "- http://scs.ryerson.ca/~aharley/neural-networks/\n",
    "- http://cs231n.github.io/neural-networks-case-study/"
   ]
  }
 ],
 "metadata": {
  "coursera": {
   "course_slug": "neural-networks-deep-learning",
   "graded_item_id": "wRuwL",
   "launcher_item_id": "NI888"
  },
  "kernelspec": {
   "display_name": "Python 3",
   "language": "python",
   "name": "python3"
  },
  "language_info": {
   "codemirror_mode": {
    "name": "ipython",
    "version": 3
   },
   "file_extension": ".py",
   "mimetype": "text/x-python",
   "name": "python",
   "nbconvert_exporter": "python",
   "pygments_lexer": "ipython3",
   "version": "3.7.3"
  }
 },
 "nbformat": 4,
 "nbformat_minor": 2
}
