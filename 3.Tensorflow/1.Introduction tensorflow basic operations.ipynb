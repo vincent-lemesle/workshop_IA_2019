{
 "cells": [
  {
   "cell_type": "markdown",
   "metadata": {},
   "source": [
    "**Introduction à Tensorflow**\n",
    "\n",
    "Dans ce workshop, on va s'initier à Tensorflow. TensorFlow est une bibliothèque open source de Machine Learning, créée par Google, permettant de développer et d’exécuter des applications de Machine Learning et de Deep Learning. Pour plus d'informations, veuillez vous référer directement sur leur site officiel.\n",
    "\n",
    "Suite à la sortie officiele de Tensorflow 2.0 récemment, les workshops seront basés sur cette version. Contrairement aux workshops précédents, nous ne vous donnerons pas autant d'indications de code. Le but étant que dès que vous rencontrez une difficulté, vous lancez vos recherches sur le web et si vraiment vous bloquez, vous venez nous voir. Après tout, le web dispose de bien + de ressources que nous. Commençons sans plus tarder !"
   ]
  },
  {
   "cell_type": "markdown",
   "metadata": {},
   "source": [
    "**1. Opérations de base**\n",
    "\n",
    "**Exercice:** Définissez 3 tensors constants de type int nommés a, b, c et de valeurs 3, 6 et 8.\n",
    "\n",
    "Indice: Qu'est ce qu'un tensor ?"
   ]
  },
  {
   "cell_type": "code",
   "execution_count": 6,
   "metadata": {},
   "outputs": [
    {
     "name": "stdout",
     "output_type": "stream",
     "text": [
      "tf.Tensor(2, shape=(), dtype=int32)\n",
      "tf.Tensor(3, shape=(), dtype=int32)\n",
      "tf.Tensor(6, shape=(), dtype=int32)\n"
     ]
    }
   ],
   "source": [
    "import tensorflow as tf\n",
    "\n",
    "a = tf.constant(2)\n",
    "b = tf.constant(3)\n",
    "c = tf.constant(6)\n",
    "\n",
    "print(a)\n",
    "print(b)\n",
    "print(c)"
   ]
  },
  {
   "cell_type": "markdown",
   "metadata": {},
   "source": [
    "**Résultat attendu**:\n",
    "\n",
    "tf.Tensor(2, shape=(), dtype=int32)\n",
    "\n",
    "tf.Tensor(3, shape=(), dtype=int32)\n",
    "\n",
    "tf.Tensor(6, shape=(), dtype=int32)"
   ]
  },
  {
   "cell_type": "markdown",
   "metadata": {},
   "source": [
    "**Exercice**: Réalisez les opérations suivantes en tf:\n",
    "        - a + b\n",
    "        - c - b\n",
    "        - b * c\n",
    "        - a / c\n",
    "        - c - a * b"
   ]
  },
  {
   "cell_type": "code",
   "execution_count": 10,
   "metadata": {},
   "outputs": [
    {
     "name": "stdout",
     "output_type": "stream",
     "text": [
      "add = 5\n",
      "sub = -1\n",
      "mul = 6\n",
      "div = 0.6666666666666666\n",
      "op = 0\n"
     ]
    }
   ],
   "source": [
    "add = tf.add(a, b)\n",
    "sub = tf.subtract(a, b)\n",
    "mul = tf.multiply(a, b)\n",
    "div = tf.divide(a, b)\n",
    "op = tf.subtract(c, tf.multiply(a, b))\n",
    "\n",
    "print(\"add =\", add.numpy())\n",
    "print(\"sub =\", sub.numpy())\n",
    "print(\"mul =\", mul.numpy())\n",
    "print(\"div =\", div.numpy())\n",
    "print(\"op =\", op.numpy())"
   ]
  },
  {
   "cell_type": "markdown",
   "metadata": {},
   "source": [
    "**Résultat attendu**\n",
    "\n",
    "add = 5\n",
    "\n",
    "sub = -1\n",
    "\n",
    "mul = 6\n",
    "\n",
    "div = 0.6666666666666666\n",
    "\n",
    "op = 0"
   ]
  },
  {
   "cell_type": "markdown",
   "metadata": {},
   "source": [
    "**Exercice**: Calculez la moyenne et la somme de a, b, c définis précedemment."
   ]
  },
  {
   "cell_type": "code",
   "execution_count": 12,
   "metadata": {},
   "outputs": [
    {
     "name": "stdout",
     "output_type": "stream",
     "text": [
      "mean = 3\n",
      "sum = 11\n"
     ]
    }
   ],
   "source": [
    "mean = tf.reduce_mean([a, b, c])\n",
    "sum = tf.reduce_sum([a, b, c])\n",
    "\n",
    "print(\"mean =\", mean.numpy())\n",
    "print(\"sum =\", sum.numpy())"
   ]
  },
  {
   "cell_type": "markdown",
   "metadata": {},
   "source": [
    "**Résultat attendu**:\n",
    "\n",
    "mean = 3\n",
    "\n",
    "sum = 11\n",
    "\n",
    "**Attends**, la moyenne de 2, 3 et 6 ça ne fait pas 3 ?! Ré-initialisez correctement les variables a, b et c pour obtenir le résultat suivant:\n",
    "\n",
    "mean = 3.6666667\n",
    "\n",
    "sum = 11.0"
   ]
  },
  {
   "cell_type": "code",
   "execution_count": 13,
   "metadata": {},
   "outputs": [
    {
     "name": "stdout",
     "output_type": "stream",
     "text": [
      "mean = 3.6666667\n",
      "sum = 11.0\n"
     ]
    }
   ],
   "source": [
    "a = tf.constant(2.)\n",
    "b = tf.constant(3.)\n",
    "c = tf.constant(6.)\n",
    "\n",
    "mean = tf.reduce_mean([a, b, c])\n",
    "sum = tf.reduce_sum([a, b, c])\n",
    "\n",
    "print(\"mean =\", mean.numpy())\n",
    "print(\"sum =\", sum.numpy())"
   ]
  },
  {
   "cell_type": "markdown",
   "metadata": {},
   "source": [
    "On continue, mais cette fois avec des matrices\n",
    "\n",
    "**Exercice**: Définissez les matrices m1 = [[1., 2.], [3., 4.]] et m2 = [[5., 6.], [7., 8.]] et affichez leur produit\n",
    "\n",
    "**Indice**: Quelle est la fonction pour multiplier 2 matrices ?"
   ]
  },
  {
   "cell_type": "code",
   "execution_count": 15,
   "metadata": {},
   "outputs": [
    {
     "name": "stdout",
     "output_type": "stream",
     "text": [
      "product = [[19. 22.]\n",
      " [43. 50.]]\n"
     ]
    }
   ],
   "source": [
    "m1 = tf.constant([[1., 2.], [3., 4.]])\n",
    "m2 = tf.constant([[5., 6.], [7., 8.]])\n",
    "\n",
    "product = tf.matmul(m1, m2)\n",
    "\n",
    "print(\"product =\", product.numpy())"
   ]
  },
  {
   "cell_type": "markdown",
   "metadata": {},
   "source": [
    "**Résultat attendu**:\n",
    "    \n",
    "product = [[19. 22.]\n",
    " [43. 50.]] "
   ]
  },
  {
   "cell_type": "markdown",
   "metadata": {},
   "source": [
    "Félicitations, vous savez maintenant comment réaliser des opérations simple avec Tensorflow. "
   ]
  }
 ],
 "metadata": {
  "kernelspec": {
   "display_name": "Python 3",
   "language": "python",
   "name": "python3"
  },
  "language_info": {
   "codemirror_mode": {
    "name": "ipython",
    "version": 3
   },
   "file_extension": ".py",
   "mimetype": "text/x-python",
   "name": "python",
   "nbconvert_exporter": "python",
   "pygments_lexer": "ipython3",
   "version": "3.7.3"
  }
 },
 "nbformat": 4,
 "nbformat_minor": 2
}
